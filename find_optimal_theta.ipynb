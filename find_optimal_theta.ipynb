{
 "cells": [
  {
   "cell_type": "markdown",
   "id": "fb3465a4-97b7-46a1-a5a3-4721864ebf3d",
   "metadata": {},
   "source": [
    "# Find optimal theta parameters for food truck profit data"
   ]
  },
  {
   "cell_type": "code",
   "execution_count": 1,
   "id": "79771f19-70a8-421f-808f-dfb8f671587d",
   "metadata": {},
   "outputs": [],
   "source": [
    "import pandas as pd\n",
    "import numpy as np\n",
    "import matplotlib.pyplot as plt"
   ]
  },
  {
   "cell_type": "code",
   "execution_count": 2,
   "id": "49464132-4800-4699-b165-4c5ad90edd84",
   "metadata": {},
   "outputs": [],
   "source": [
    "# Verimizdeki İlk sütun bir şehrin nüfusu ve ikinci sütun o şehirdeki bir gıda kamyonunun kârıdır.\n",
    "df = pd.read_csv(\"ex1data1.txt\", sep=\",\",names=[\"x\",\"y\"])"
   ]
  },
  {
   "cell_type": "code",
   "execution_count": 3,
   "id": "e2955df1-4bee-4d1d-877b-1c0e76609a53",
   "metadata": {},
   "outputs": [
    {
     "data": {
      "text/html": [
       "<div>\n",
       "<style scoped>\n",
       "    .dataframe tbody tr th:only-of-type {\n",
       "        vertical-align: middle;\n",
       "    }\n",
       "\n",
       "    .dataframe tbody tr th {\n",
       "        vertical-align: top;\n",
       "    }\n",
       "\n",
       "    .dataframe thead th {\n",
       "        text-align: right;\n",
       "    }\n",
       "</style>\n",
       "<table border=\"1\" class=\"dataframe\">\n",
       "  <thead>\n",
       "    <tr style=\"text-align: right;\">\n",
       "      <th></th>\n",
       "      <th>x</th>\n",
       "      <th>y</th>\n",
       "    </tr>\n",
       "  </thead>\n",
       "  <tbody>\n",
       "    <tr>\n",
       "      <th>0</th>\n",
       "      <td>6.1101</td>\n",
       "      <td>17.5920</td>\n",
       "    </tr>\n",
       "    <tr>\n",
       "      <th>1</th>\n",
       "      <td>5.5277</td>\n",
       "      <td>9.1302</td>\n",
       "    </tr>\n",
       "    <tr>\n",
       "      <th>2</th>\n",
       "      <td>8.5186</td>\n",
       "      <td>13.6620</td>\n",
       "    </tr>\n",
       "    <tr>\n",
       "      <th>3</th>\n",
       "      <td>7.0032</td>\n",
       "      <td>11.8540</td>\n",
       "    </tr>\n",
       "    <tr>\n",
       "      <th>4</th>\n",
       "      <td>5.8598</td>\n",
       "      <td>6.8233</td>\n",
       "    </tr>\n",
       "  </tbody>\n",
       "</table>\n",
       "</div>"
      ],
      "text/plain": [
       "        x        y\n",
       "0  6.1101  17.5920\n",
       "1  5.5277   9.1302\n",
       "2  8.5186  13.6620\n",
       "3  7.0032  11.8540\n",
       "4  5.8598   6.8233"
      ]
     },
     "execution_count": 3,
     "metadata": {},
     "output_type": "execute_result"
    }
   ],
   "source": [
    "df.head()"
   ]
  },
  {
   "cell_type": "code",
   "execution_count": 4,
   "id": "d1b4d557-ba72-4248-a1f0-d62693111a11",
   "metadata": {},
   "outputs": [
    {
     "name": "stdout",
     "output_type": "stream",
     "text": [
      "[ 6.1101  5.5277  8.5186  7.0032  5.8598  8.3829  7.4764  8.5781  6.4862\n",
      "  5.0546  5.7107 14.164   5.734   8.4084  5.6407  5.3794  6.3654  5.1301\n",
      "  6.4296  7.0708  6.1891 20.27    5.4901  6.3261  5.5649 18.945  12.828\n",
      " 10.957  13.176  22.203   5.2524  6.5894  9.2482  5.8918  8.2111  7.9334\n",
      "  8.0959  5.6063 12.836   6.3534  5.4069  6.8825 11.708   5.7737  7.8247\n",
      "  7.0931  5.0702  5.8014 11.7     5.5416  7.5402  5.3077  7.4239  7.6031\n",
      "  6.3328  6.3589  6.2742  5.6397  9.3102  9.4536  8.8254  5.1793 21.279\n",
      " 14.908  18.959   7.2182  8.2951 10.236   5.4994 20.341  10.136   7.3345\n",
      "  6.0062  7.2259  5.0269  6.5479  7.5386  5.0365 10.274   5.1077  5.7292\n",
      "  5.1884  6.3557  9.7687  6.5159  8.5172  9.1802  6.002   5.5204  5.0594\n",
      "  5.7077  7.6366  5.8707  5.3054  8.2934 13.394   5.4369]\n"
     ]
    }
   ],
   "source": [
    "X=df.iloc[:,0].values\n",
    "print(X)"
   ]
  },
  {
   "cell_type": "code",
   "execution_count": 5,
   "id": "e33b9a9d-e78c-4515-94b1-52c752d532aa",
   "metadata": {},
   "outputs": [
    {
     "name": "stdout",
     "output_type": "stream",
     "text": [
      "[17.592    9.1302  13.662   11.854    6.8233  11.886    4.3483  12.\n",
      "  6.5987   3.8166   3.2522  15.505    3.1551   7.2258   0.71618  3.5129\n",
      "  5.3048   0.56077  3.6518   5.3893   3.1386  21.767    4.263    5.1875\n",
      "  3.0825  22.638   13.501    7.0467  14.692   24.147   -1.22     5.9966\n",
      " 12.134    1.8495   6.5426   4.5623   4.1164   3.3928  10.117    5.4974\n",
      "  0.55657  3.9115   5.3854   2.4406   6.7318   1.0463   5.1337   1.844\n",
      "  8.0043   1.0179   6.7504   1.8396   4.2885   4.9981   1.4233  -1.4211\n",
      "  2.4756   4.6042   3.9624   5.4141   5.1694  -0.74279 17.929   12.054\n",
      " 17.054    4.8852   5.7442   7.7754   1.0173  20.992    6.6799   4.0259\n",
      "  1.2784   3.3411  -2.6807   0.29678  3.8845   5.7014   6.7526   2.0576\n",
      "  0.47953  0.20421  0.67861  7.5435   5.3436   4.2415   6.7981   0.92695\n",
      "  0.152    2.8214   1.8451   4.2959   7.2029   1.9869   0.14454  9.0551\n",
      "  0.61705]\n"
     ]
    }
   ],
   "source": [
    "y=df.iloc[:,1].values\n",
    "print(y)"
   ]
  },
  {
   "cell_type": "code",
   "execution_count": 6,
   "id": "58fc78fb-4d38-4b75-ab66-a36a7117c3e4",
   "metadata": {},
   "outputs": [
    {
     "name": "stdout",
     "output_type": "stream",
     "text": [
      "[[17.592 ]\n",
      " [ 9.1302]\n",
      " [13.662 ]\n",
      " [11.854 ]\n",
      " [ 6.8233]]\n"
     ]
    }
   ],
   "source": [
    "#y np.reshape yapmamızın nedeni; y tek boyutlu olduğundan dolayı (47,) şeklindedir. matris çarpımı yapabilmek için bunu (47,1) şeklinde güncelliyoruz.\n",
    "y=np.reshape(y,(len(y),1))\n",
    "print(y[0:5])"
   ]
  },
  {
   "cell_type": "code",
   "execution_count": 7,
   "id": "5a5d875a-129c-476a-aedf-4ea23990b1b5",
   "metadata": {},
   "outputs": [],
   "source": [
    "m=len(y) # eğitim örneği sayısı."
   ]
  },
  {
   "cell_type": "code",
   "execution_count": 8,
   "id": "6ab23160-a20a-4bbb-aa08-78a5a7db8856",
   "metadata": {},
   "outputs": [],
   "source": [
    "X=np.concatenate([np.ones((m,1)),X.reshape(97,1)],axis=1)"
   ]
  },
  {
   "cell_type": "code",
   "execution_count": 9,
   "id": "b821123d-3bd6-490e-b985-ba8c3cd46e7f",
   "metadata": {},
   "outputs": [
    {
     "name": "stdout",
     "output_type": "stream",
     "text": [
      "[[1.     5.5277]\n",
      " [1.     8.5186]\n",
      " [1.     7.0032]\n",
      " [1.     5.8598]]\n"
     ]
    }
   ],
   "source": [
    "# X'e 1 lerden oluşan yeni bir column ekliyoruz(1 olma nedeni x0'ı ekliyoruz x0=1 dir)\n",
    "print(X[1:5])"
   ]
  },
  {
   "cell_type": "code",
   "execution_count": 10,
   "id": "f1360922-8fcc-446c-9f3d-b84ceeaf2b06",
   "metadata": {},
   "outputs": [
    {
     "name": "stdout",
     "output_type": "stream",
     "text": [
      "[[0]\n",
      " [0]]\n"
     ]
    }
   ],
   "source": [
    "# create theta parameters.\n",
    "theta=np.zeros((2,1),dtype=int)\n",
    "print(theta)"
   ]
  },
  {
   "cell_type": "markdown",
   "id": "6a84514f-6442-4546-9dac-1ea870c79579",
   "metadata": {},
   "source": [
    "### Compute Cost"
   ]
  },
  {
   "cell_type": "code",
   "execution_count": 11,
   "id": "503d8e7e-13fc-4375-a091-8cc38ba39976",
   "metadata": {},
   "outputs": [],
   "source": [
    "# J maliyet fonksiyonunu compute_cost fonksiyonu ile hesapıyoruz.\n",
    "# 1. h hipotezimizi hesaplarken; np.dot ile x ile theta ya matris çarpımı uyguluyoruz. np dot yerine @ simgesini de kullanabiliriz.\n",
    "# 2. for içinde hatayı hesaplıyoruz ve temp değişkende biriktiriyoruz.\n",
    "# 3. Son olarak maliyet fonksiyonumuzu formüle uygun şekilde çıkartıyoruz.\n",
    "def compute_cost(X,y,theta):\n",
    "    J=0\n",
    "    h=np.dot(X,theta)\n",
    "    temp=0\n",
    "    for i in range(0,m):\n",
    "        temp+=np.square((h[i]-y[i]))\n",
    "    J=(1/(2*m))*temp;\n",
    "    return J"
   ]
  },
  {
   "cell_type": "code",
   "execution_count": 12,
   "id": "4d8432b2-acef-4e4c-976b-6322b48cd4a1",
   "metadata": {},
   "outputs": [
    {
     "data": {
      "text/plain": [
       "array([32.07273388])"
      ]
     },
     "execution_count": 12,
     "metadata": {},
     "output_type": "execute_result"
    }
   ],
   "source": [
    "# Kullandığımız theta değerleri ile aldığımız maliyet budur.\n",
    "compute_cost(X,y,theta)"
   ]
  },
  {
   "cell_type": "code",
   "execution_count": 13,
   "id": "078dd344-d8a8-4c05-8cfc-e01eeb698a27",
   "metadata": {},
   "outputs": [
    {
     "data": {
      "text/plain": [
       "32.072733877455676"
      ]
     },
     "execution_count": 13,
     "metadata": {},
     "output_type": "execute_result"
    }
   ],
   "source": [
    "# Vektör yöntemi ile hesaplanışı\n",
    "(1/(2*m))*np.sum(np.square(np.dot(X,theta)-y))"
   ]
  },
  {
   "cell_type": "markdown",
   "id": "5c0166aa-2930-4945-9ac3-53b7e00386c5",
   "metadata": {},
   "source": [
    "### Gradient Descent"
   ]
  },
  {
   "cell_type": "code",
   "execution_count": 14,
   "id": "797b66e4-8c86-4eda-bdf1-2cd8cc803335",
   "metadata": {},
   "outputs": [],
   "source": [
    "# Gradyan iniş algoritmasında kullanmak için iterasyon ve alpha değerlerimizi belirliyoruz.\n",
    "iterations = 1500\n",
    "alpha = 0.01"
   ]
  },
  {
   "cell_type": "code",
   "execution_count": 15,
   "id": "51383c87-c41a-4fc5-90e7-a42dae455f86",
   "metadata": {},
   "outputs": [
    {
     "data": {
      "text/plain": [
       "array([[0],\n",
       "       [0]])"
      ]
     },
     "execution_count": 15,
     "metadata": {},
     "output_type": "execute_result"
    }
   ],
   "source": [
    "theta=np.zeros((2,1),dtype=int)\n",
    "theta"
   ]
  },
  {
   "cell_type": "code",
   "execution_count": 16,
   "id": "d17d5cef-2a56-4305-a6b0-a457a5e71c84",
   "metadata": {},
   "outputs": [
    {
     "data": {
      "text/plain": [
       "[<matplotlib.lines.Line2D at 0x27ac5b7ae48>]"
      ]
     },
     "execution_count": 16,
     "metadata": {},
     "output_type": "execute_result"
    },
    {
     "data": {
      "image/png": "[encoded data removed]",
      "text/plain": [
       "<Figure size 432x288 with 1 Axes>"
      ]
     },
     "metadata": {
      "needs_background": "light"
     },
     "output_type": "display_data"
    }
   ],
   "source": [
    "# optimal theta değerlerini bulmadan önceki tahminimiz.\n",
    "plt.scatter(X[:,1],y,color=\"red\")\n",
    "plt.plot(X[:,1],np.dot(X,theta))"
   ]
  },
  {
   "cell_type": "code",
   "execution_count": 17,
   "id": "7288bb7b-be8a-40d0-942b-63d308bff2da",
   "metadata": {},
   "outputs": [
    {
     "data": {
      "text/plain": [
       "(97, 1)"
      ]
     },
     "execution_count": 17,
     "metadata": {},
     "output_type": "execute_result"
    }
   ],
   "source": [
    "# y verimiz 97 elemandan oluşuyor, matris çarpımı yapabilmek için y'nin boyutunu 97,1 olarak reshape methodu ile güncelliyoruz.\n",
    "y.shape"
   ]
  },
  {
   "cell_type": "code",
   "execution_count": 18,
   "id": "ccd91ae0-2f62-4464-b98e-8235708b1e23",
   "metadata": {},
   "outputs": [
    {
     "data": {
      "text/plain": [
       "(97, 1)"
      ]
     },
     "execution_count": 18,
     "metadata": {},
     "output_type": "execute_result"
    }
   ],
   "source": [
    "y=y.reshape(97,1)\n",
    "y.shape"
   ]
  },
  {
   "cell_type": "code",
   "execution_count": 22,
   "id": "35f53b45-1e0f-4118-b69c-47f45dc68c7a",
   "metadata": {},
   "outputs": [],
   "source": [
    "def gradient_descent(X,y,theta,iterations):\n",
    "    # her iterasyon için aldığımız maliyeti kaydetmek için J_history değişkeni oluşturuyoruz.\n",
    "    J_history = np.zeros((iterations, 1))\n",
    "    J_history\n",
    "    for i in range(0,iterations):\n",
    "        error=(np.dot(X,theta))-(y)\n",
    "        theta=theta-((alpha/m)*(np.dot(X.transpose(),error)))\n",
    "        J_history[i]=compute_cost(X,y,theta)\n",
    "    return theta,J_history\n",
    "    "
   ]
  },
  {
   "cell_type": "code",
   "execution_count": 23,
   "id": "238d493b-45be-407b-8e4c-3b6aa77e4ecd",
   "metadata": {},
   "outputs": [
    {
     "data": {
      "text/plain": [
       "array([[-3.63029144],\n",
       "       [ 1.16636235]])"
      ]
     },
     "execution_count": 23,
     "metadata": {},
     "output_type": "execute_result"
    }
   ],
   "source": [
    "#En uygun thetaları bulduk.\n",
    "best_theta,J_history=gradient_descent(X,y,theta,iterations)\n",
    "best_theta"
   ]
  },
  {
   "cell_type": "code",
   "execution_count": 21,
   "id": "c97fe005-7b7b-4013-97bb-d552047cebb1",
   "metadata": {},
   "outputs": [
    {
     "data": {
      "text/plain": [
       "[<matplotlib.lines.Line2D at 0x2d789419d08>]"
      ]
     },
     "execution_count": 21,
     "metadata": {},
     "output_type": "execute_result"
    },
    {
     "data": {
      "image/png": "[encoded data removed]",
      "text/plain": [
       "<Figure size 432x288 with 1 Axes>"
      ]
     },
     "metadata": {
      "needs_background": "light"
     },
     "output_type": "display_data"
    }
   ],
   "source": [
    "# bulduğumuz optimal theta değerleri ile tahminimizi çizelim.\n",
    "plt.scatter(X[:,1],y,color=\"red\")\n",
    "plt.plot(X[:,1],np.dot(X,best_theta))"
   ]
  },
  {
   "cell_type": "code",
   "execution_count": 26,
   "id": "fc09cee6-0d69-4f1f-9114-6796c8e9b8ad",
   "metadata": {},
   "outputs": [
    {
     "data": {
      "text/plain": [
       "Text(0.5, 1.0, 'Cost function using Gradient Descent')"
      ]
     },
     "execution_count": 26,
     "metadata": {},
     "output_type": "execute_result"
    },
    {
     "data": {
      "image/png": "[encoded data removed]",
      "text/plain": [
       "<Figure size 432x288 with 1 Axes>"
      ]
     },
     "metadata": {
      "needs_background": "light"
     },
     "output_type": "display_data"
    }
   ],
   "source": [
    "#gradient descent sayesinde J'nin düşüşünü görselleştiriyoruz.\n",
    "plt.plot(J_history)\n",
    "plt.xlabel(\"Iteration\")\n",
    "plt.ylabel(\"$J(\\Theta)$\")\n",
    "plt.title(\"Cost function using Gradient Descent\")"
   ]
  },
  {
   "cell_type": "markdown",
   "id": "6c93b258-632f-424a-b64f-1b9b09b2eca6",
   "metadata": {},
   "source": [
    "# Find optimal theta parameters for house price data"
   ]
  },
  {
   "cell_type": "code",
   "execution_count": 23,
   "id": "0de00398-a595-4fdf-810f-df76b53b4fff",
   "metadata": {},
   "outputs": [],
   "source": [
    "# Verimizdeki İlk sütun evin büyüklüğü (feet kare), ikinci sütun yatak odası sayısı ve üçüncü sütun evin fiyatıdır.\n",
    "df = pd.read_csv(\"ex1data2.txt\", sep=\",\",names=[\"x1\",\"x2\",\"y\"])"
   ]
  },
  {
   "cell_type": "markdown",
   "id": "e96ce9f8-be19-441f-a733-ccfd6d286f34",
   "metadata": {},
   "source": [
    "#### Pandas series ile Compute cost"
   ]
  },
  {
   "cell_type": "code",
   "execution_count": 24,
   "id": "ebfee6d1-a932-41f0-8507-c164edbf5391",
   "metadata": {},
   "outputs": [],
   "source": [
    "X=df.iloc[:,:2]"
   ]
  },
  {
   "cell_type": "code",
   "execution_count": 25,
   "id": "dd1ad8bb-24bd-4b66-8541-d18d718b4814",
   "metadata": {},
   "outputs": [],
   "source": [
    "y=df.iloc[:,2]"
   ]
  },
  {
   "cell_type": "code",
   "execution_count": 26,
   "id": "b5acaa2a-a1a2-4c56-8071-7e969bb8d700",
   "metadata": {},
   "outputs": [],
   "source": [
    "y=y.values.reshape(len(y),1)"
   ]
  },
  {
   "cell_type": "code",
   "execution_count": 27,
   "id": "9a56c1f1-f240-44fe-b148-772a25db9088",
   "metadata": {},
   "outputs": [],
   "source": [
    "#Değerlere bakıldığında, ev boyutlarının yatak odalarının yaklaşık 1000 katı olduğunu unutmayın. Veri üzerinde özellik ölçeklendirmesi gerçekleştirildiğinde gradyan inişi çok daha hızlı bir şekilde yakınsayabilir.\n",
    "#X verilerimize standardizasyon uyguluyoruz ve bunun sonucunda verilerin ortalaması 0 standart sapması 1 olur.\n",
    "# özet olarak gradient descenti hızlandırmak için verileri belirli bir aralığa sıkıştırıyoruzş.\n",
    "def feature_normalize(X):\n",
    "    mu=np.mean(X)\n",
    "    sigma=np.std(X)\n",
    "    X_norm=(X-mu)/sigma\n",
    "    return X_norm"
   ]
  },
  {
   "cell_type": "code",
   "execution_count": 28,
   "id": "558019f8-0c8c-4fe5-b190-ad9830eb324d",
   "metadata": {},
   "outputs": [],
   "source": [
    "# X sütununu standardizasyon uygulanmış hali ile güncelliyoruz.\n",
    "X=feature_normalize(X)"
   ]
  },
  {
   "cell_type": "code",
   "execution_count": 29,
   "id": "5d7832b7-0092-49c8-a652-e1bc857e5d88",
   "metadata": {},
   "outputs": [],
   "source": [
    "# Xe X0 olan(1lerden oluşan) değerleri ekliyoruz.\n",
    "X.insert(loc=0,column=\"a\",value=np.ones(47))"
   ]
  },
  {
   "cell_type": "code",
   "execution_count": 30,
   "id": "5ebdaef6-d40c-4a2c-a6bc-0bf14e6d4bfd",
   "metadata": {},
   "outputs": [],
   "source": [
    "alpha = 0.01;\n",
    "num_iters = 400;\n",
    "theta=np.zeros(3).reshape(3,1)"
   ]
  },
  {
   "cell_type": "code",
   "execution_count": 31,
   "id": "84eeed57-bb09-4d49-a212-3fc8030b58ee",
   "metadata": {},
   "outputs": [],
   "source": [
    "m=len(y)"
   ]
  },
  {
   "cell_type": "code",
   "execution_count": 32,
   "id": "f7dd1602-f605-45a5-be78-fe7cb0f6f32d",
   "metadata": {},
   "outputs": [],
   "source": [
    "def compute_cost_multi(X,y,theta):\n",
    "    return (1/(2*m))*np.sum(np.square(np.dot(X,theta)-y))\n",
    "    "
   ]
  },
  {
   "cell_type": "markdown",
   "id": "aef2bd8f-f29f-4340-b139-f3da2d6eaeb8",
   "metadata": {},
   "source": [
    "### Gradient descent"
   ]
  },
  {
   "cell_type": "code",
   "execution_count": 33,
   "id": "f03cb57f-48b1-4425-8700-ea91c6d5f951",
   "metadata": {},
   "outputs": [],
   "source": [
    "# iterasyon boyunca Theta ile aldığımız maliyetleri kaydetmek için J_history oluştururuz.\n",
    "J_history=np.zeros((num_iters,1))"
   ]
  },
  {
   "cell_type": "raw",
   "id": "59f96965-5402-4b44-88a6-81163e08e654",
   "metadata": {},
   "source": [
    "def gradientDescentMulti(X,y,theta,alpha,num_iters):\n",
    "    for i in range(0,num_iters):\n",
    "        error=(np.dot(X,theta))-(y)\n",
    "        theta=theta-((alpha/m)*(np.dot(X.transpose(),error)))\n",
    "        J_history[i]=compute_cost_multi(X,y,theta)\n",
    "    return theta,J_history"
   ]
  },
  {
   "cell_type": "code",
   "execution_count": 35,
   "id": "f2fd58ae-5da2-44ab-88e5-5d306fbe5d63",
   "metadata": {},
   "outputs": [],
   "source": [
    "best_theta,J_history=gradientDescentMulti(X,y,theta,alpha,num_iters)"
   ]
  },
  {
   "cell_type": "code",
   "execution_count": 36,
   "id": "09a156cd-ba10-4cd2-834f-18c214206249",
   "metadata": {},
   "outputs": [
    {
     "data": {
      "text/plain": [
       "array([[334302.06399328],\n",
       "       [ 99411.44947359],\n",
       "       [  3267.01285407]])"
      ]
     },
     "execution_count": 36,
     "metadata": {},
     "output_type": "execute_result"
    }
   ],
   "source": [
    "best_theta"
   ]
  },
  {
   "cell_type": "code",
   "execution_count": 37,
   "id": "1a090aed-fc6d-477c-9816-52bfef042b47",
   "metadata": {},
   "outputs": [
    {
     "data": {
      "text/plain": [
       "[<matplotlib.lines.Line2D at 0x2d7894a0808>]"
      ]
     },
     "execution_count": 37,
     "metadata": {},
     "output_type": "execute_result"
    },
    {
     "data": {
      "image/png": "[encoded data removed]",
      "text/plain": [
       "<Figure size 432x288 with 1 Axes>"
      ]
     },
     "metadata": {
      "needs_background": "light"
     },
     "output_type": "display_data"
    }
   ],
   "source": [
    "# bulduğumuz optimal theta değerleri ile tahminimizi çizelim.\n",
    "plt.scatter(X.iloc[:,1],y,color=\"red\")\n",
    "plt.plot(X.iloc[:,1],np.dot(X,best_theta))"
   ]
  },
  {
   "cell_type": "markdown",
   "id": "7894b343-1a43-43e9-9d3d-96145146134d",
   "metadata": {},
   "source": [
    "#### NDARRAY ile compute cost"
   ]
  },
  {
   "cell_type": "code",
   "execution_count": 76,
   "id": "32005453-4f43-412c-b2bc-b659eaecbb0c",
   "metadata": {},
   "outputs": [],
   "source": [
    "X2=df.iloc[:,:2].values"
   ]
  },
  {
   "cell_type": "code",
   "execution_count": 77,
   "id": "157838c1-6509-41d0-ae3f-5182b35ebf66",
   "metadata": {},
   "outputs": [],
   "source": [
    "y=df.iloc[:,2].values"
   ]
  },
  {
   "cell_type": "code",
   "execution_count": 81,
   "id": "f29d77ce-acea-45ef-a2b9-7c0722b3c28e",
   "metadata": {},
   "outputs": [
    {
     "data": {
      "text/plain": [
       "array([2000.68085106,    3.17021277])"
      ]
     },
     "execution_count": 81,
     "metadata": {},
     "output_type": "execute_result"
    }
   ],
   "source": [
    "mu=np.mean(X2,axis=0)\n",
    "mu"
   ]
  },
  {
   "cell_type": "code",
   "execution_count": 82,
   "id": "9b730b2e-f699-4bc3-b660-41ea6895a376",
   "metadata": {},
   "outputs": [
    {
     "data": {
      "text/plain": [
       "array([7.86202619e+02, 7.52842809e-01])"
      ]
     },
     "execution_count": 82,
     "metadata": {},
     "output_type": "execute_result"
    }
   ],
   "source": [
    "sigma=np.std(X2,axis=0)\n",
    "sigma"
   ]
  },
  {
   "cell_type": "code",
   "execution_count": 83,
   "id": "825ab2ca-e459-4c73-a1d7-a9abf7ad0104",
   "metadata": {},
   "outputs": [],
   "source": [
    "X_norm=(X2-mu)/sigma"
   ]
  },
  {
   "cell_type": "code",
   "execution_count": 84,
   "id": "90aa37ca-77c0-4e68-8a10-521a5cad338a",
   "metadata": {},
   "outputs": [],
   "source": [
    "X2=X_norm"
   ]
  },
  {
   "cell_type": "code",
   "execution_count": 85,
   "id": "a63a3433-a01a-4acc-bfae-3553cd3f48b3",
   "metadata": {},
   "outputs": [],
   "source": [
    "X2=np.concatenate([np.ones((len(X2),1)),X2],axis=1)"
   ]
  },
  {
   "cell_type": "code",
   "execution_count": 86,
   "id": "b68c5416-1a04-4cb2-a4d5-1c867f52cab6",
   "metadata": {},
   "outputs": [],
   "source": [
    "for i in range(0,num_iters):\n",
    "    error=(np.dot(X,theta))-(y.reshape(47,1))\n",
    "    theta=theta-((alpha/m)*(np.dot(X.transpose(),error)))"
   ]
  },
  {
   "cell_type": "code",
   "execution_count": 87,
   "id": "77dc57b5-7990-41c4-a450-798a431cb723",
   "metadata": {},
   "outputs": [
    {
     "data": {
      "text/plain": [
       "array([[334302.06399328],\n",
       "       [ 99411.44947359],\n",
       "       [  3267.01285407]])"
      ]
     },
     "execution_count": 87,
     "metadata": {},
     "output_type": "execute_result"
    }
   ],
   "source": [
    "theta"
   ]
  },
  {
   "cell_type": "code",
   "execution_count": null,
   "id": "4452d070-1e18-40b6-8505-8abbf40b3519",
   "metadata": {},
   "outputs": [],
   "source": []
  }
 ],
 "metadata": {
  "kernelspec": {
   "display_name": "Python 3",
   "language": "python",
   "name": "python3"
  },
  "language_info": {
   "codemirror_mode": {
    "name": "ipython",
    "version": 3
   },
   "file_extension": ".py",
   "mimetype": "text/x-python",
   "name": "python",
   "nbconvert_exporter": "python",
   "pygments_lexer": "ipython3",
   "version": "3.8.8"
  }
 },
 "nbformat": 4,
 "nbformat_minor": 5
}
